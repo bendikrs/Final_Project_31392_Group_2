{
 "cells": [
  {
   "cell_type": "code",
   "execution_count": 35,
   "metadata": {},
   "outputs": [],
   "source": [
    "import torch\n",
    "import numpy as np\n",
    "import os\n",
    "\n",
    "class Object:\n",
    "    def __init__(self, img, model='data/yoloModels/best.pt'):\n",
    "        self.img = img\n",
    "        self.model = torch.hub.load('ultralytics/yolov5','custom', path=model, verbose=False)\n",
    "        self.result = self.model(self.img)\n",
    "        # self.result.save()\n",
    "        self.parameters = self.result.pandas().xyxy[0].to_numpy()[0]\n",
    "        self.xmin = self.parameters[0]\n",
    "        self.ymin = self.parameters[1]\n",
    "        self.xmax = self.parameters[2]\n",
    "        self.ymax = self.parameters[3]\n",
    "        self.confidence = self.parameters[4]\n",
    "        self.name = self.parameters[5]\n",
    "        self.center = self.getCenter()\n",
    "\n",
    "    def getCenter(self):\n",
    "        return np.array([(self.xmin + self.xmax)/2, (self.ymin + self.ymax)/2]).astype(int)\n"
   ]
  },
  {
   "cell_type": "code",
   "execution_count": 36,
   "metadata": {},
   "outputs": [
    {
     "name": "stderr",
     "output_type": "stream",
     "text": [
      "YOLOv5  2022-4-25 torch 1.11.0+cpu CPU\n",
      "\n",
      "Fusing layers... \n",
      "Model summary: 213 layers, 7012822 parameters, 0 gradients\n",
      "Adding AutoShape... \n",
      "YOLOv5  2022-4-25 torch 1.11.0+cpu CPU\n",
      "\n",
      "Fusing layers... \n",
      "Model summary: 213 layers, 7012822 parameters, 0 gradients\n",
      "Adding AutoShape... \n",
      "YOLOv5  2022-4-25 torch 1.11.0+cpu CPU\n",
      "\n",
      "Fusing layers... \n",
      "Model summary: 213 layers, 7012822 parameters, 0 gradients\n",
      "Adding AutoShape... \n",
      "YOLOv5  2022-4-25 torch 1.11.0+cpu CPU\n",
      "\n",
      "Fusing layers... \n",
      "Model summary: 213 layers, 7012822 parameters, 0 gradients\n",
      "Adding AutoShape... \n"
     ]
    }
   ],
   "source": [
    "path = 'data\\conveyorImages'\n",
    "imgs = [os.path.join(path, f) for f in os.listdir(path) if f.endswith('.png')]\n",
    "\n",
    "centers = []\n",
    "for img in imgs:\n",
    "    obj = Object(img)\n",
    "    centers.append(obj.center)"
   ]
  },
  {
   "cell_type": "code",
   "execution_count": null,
   "metadata": {},
   "outputs": [],
   "source": []
  }
 ],
 "metadata": {
  "interpreter": {
   "hash": "13599d27ea91ac1cb7023a4a51c973d8f08b09d3ced2b44d4ff6115410ac0f58"
  },
  "kernelspec": {
   "display_name": "Python 3.6.13 ('yolov5')",
   "language": "python",
   "name": "python3"
  },
  "language_info": {
   "codemirror_mode": {
    "name": "ipython",
    "version": 3
   },
   "file_extension": ".py",
   "mimetype": "text/x-python",
   "name": "python",
   "nbconvert_exporter": "python",
   "pygments_lexer": "ipython3",
   "version": "3.7.13"
  },
  "orig_nbformat": 4
 },
 "nbformat": 4,
 "nbformat_minor": 2
}
