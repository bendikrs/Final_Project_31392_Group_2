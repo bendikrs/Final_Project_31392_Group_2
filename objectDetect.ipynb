{
 "cells": [
  {
   "cell_type": "code",
   "execution_count": 33,
   "metadata": {},
   "outputs": [],
   "source": [
    "import torch\n",
    "import numpy as np\n",
    "import os\n",
    "\n",
    "class Predictor:\n",
    "    def __init__(self, imgs, modelPath='data/yoloModels/best.pt'):\n",
    "        self.imgs = imgs\n",
    "        self.model = torch.hub.load('ultralytics/yolov5','custom', path=modelPath, verbose=False)\n",
    "        self.centers = []\n",
    "        self.results = [] # [[[xmin, xmax, ymin, ymax, certainty, classID, className, [centerX, centerY]], ...], ...]\n",
    "        self.getPredictions()\n",
    "\n",
    "\n",
    "    def __str__(self):\n",
    "        return f'{len(self.imgs)} images, {self.name}'\n",
    "\n",
    "    def getPredictions(self):\n",
    "        for i, img in enumerate(self.imgs):\n",
    "            currResult = self.model(img).pandas().xyxy[0].to_numpy()\n",
    "            self.results.append([])\n",
    "            for j, res in enumerate(currResult):\n",
    "                self.results[-1].append([])\n",
    "                for k, val in enumerate(res):\n",
    "                    self.results[-1][-1].append(val)\n",
    "                \n",
    "                center = self.getCenter(*self.results[-1][-1][:4])\n",
    "                self.results[-1][-1].append(center)\n",
    "\n",
    "\n",
    "    def getCenter(self, xmin, xmax, ymin, ymax):\n",
    "        return np.array([(xmin + xmax)/2, (ymin + ymax)/2]).astype(int)\n"
   ]
  },
  {
   "cell_type": "code",
   "execution_count": 34,
   "metadata": {},
   "outputs": [
    {
     "name": "stderr",
     "output_type": "stream",
     "text": [
      "YOLOv5  2022-4-27 torch 1.11.0+cpu CPU\n",
      "\n",
      "Fusing layers... \n",
      "Model summary: 213 layers, 7012822 parameters, 0 gradients\n",
      "Adding AutoShape... \n"
     ]
    }
   ],
   "source": [
    "path = 'data\\conveyorImages'\n",
    "imgs = [os.path.join(path, f) for f in os.listdir(path) if f.endswith('.png')]\n",
    "\n",
    "\n",
    "pred = Predictor(imgs=imgs)\n"
   ]
  },
  {
   "cell_type": "code",
   "execution_count": 35,
   "metadata": {},
   "outputs": [
    {
     "data": {
      "text/plain": [
       "[[[856.2462158203125,\n",
       "   310.13323974609375,\n",
       "   998.8065185546875,\n",
       "   426.71905517578125,\n",
       "   0.9314594268798828,\n",
       "   0,\n",
       "   'box',\n",
       "   array([583, 712])]],\n",
       " [[732.5384521484375,\n",
       "   334.01318359375,\n",
       "   891.630859375,\n",
       "   474.98284912109375,\n",
       "   0.9456979632377625,\n",
       "   0,\n",
       "   'box',\n",
       "   array([533, 683])]],\n",
       " [[628.7694091796875,\n",
       "   357.84063720703125,\n",
       "   793.7801513671875,\n",
       "   512.0861206054688,\n",
       "   0.9429858922958374,\n",
       "   0,\n",
       "   'box',\n",
       "   array([493, 652])]],\n",
       " [[575.2089233398438,\n",
       "   368.7104187011719,\n",
       "   741.6259155273438,\n",
       "   529.5492553710938,\n",
       "   0.9529181122779846,\n",
       "   0,\n",
       "   'box',\n",
       "   array([471, 635])]]]"
      ]
     },
     "execution_count": 35,
     "metadata": {},
     "output_type": "execute_result"
    }
   ],
   "source": [
    "pred.results"
   ]
  }
 ],
 "metadata": {
  "interpreter": {
   "hash": "13599d27ea91ac1cb7023a4a51c973d8f08b09d3ced2b44d4ff6115410ac0f58"
  },
  "kernelspec": {
   "display_name": "Python 3.6.13 ('yolov5')",
   "language": "python",
   "name": "python3"
  },
  "language_info": {
   "codemirror_mode": {
    "name": "ipython",
    "version": 3
   },
   "file_extension": ".py",
   "mimetype": "text/x-python",
   "name": "python",
   "nbconvert_exporter": "python",
   "pygments_lexer": "ipython3",
   "version": "3.8.12"
  },
  "orig_nbformat": 4
 },
 "nbformat": 4,
 "nbformat_minor": 2
}
