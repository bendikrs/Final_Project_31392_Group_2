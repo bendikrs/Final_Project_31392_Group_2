{
 "cells": [
  {
   "cell_type": "code",
   "execution_count": 40,
   "metadata": {},
   "outputs": [],
   "source": [
    "import torch\n",
    "import numpy as np\n",
    "import os\n",
    "\n",
    "class Predictor:\n",
    "    def __init__(self, imgs, modelPath='data/yoloModels/bestest.pt'):\n",
    "        self.imgs = imgs\n",
    "        self.model = torch.hub.load('ultralytics/yolov5','custom', path=modelPath, verbose=False)\n",
    "        self.centers = []\n",
    "        self.results = [] # [[[xmin, xmax, ymin, ymax, certainty, classID, className, [centerX, centerY]], ...], ...]\n",
    "        self.getPredictions()\n",
    "\n",
    "\n",
    "    def __str__(self):\n",
    "        return f'{len(self.imgs)} images, {self.name}'\n",
    "\n",
    "    def getPredictions(self):\n",
    "        for i, img in enumerate(self.imgs):\n",
    "            currResult = self.model(img).pandas().xyxy[0].to_numpy()\n",
    "            self.results.append([])\n",
    "            for j, res in enumerate(currResult):\n",
    "                self.results[-1].append([])\n",
    "                for k, val in enumerate(res):\n",
    "                    self.results[-1][-1].append(val)\n",
    "                \n",
    "                center = self.getCenter(*self.results[-1][-1][:4])\n",
    "                self.results[-1][-1].append(center)\n",
    "\n",
    "\n",
    "    def getCenter(self, xmin, xmax, ymin, ymax):\n",
    "        return np.array([(xmin + xmax)/2, (ymin + ymax)/2]).astype(int)\n"
   ]
  },
  {
   "cell_type": "code",
   "execution_count": 41,
   "metadata": {},
   "outputs": [
    {
     "name": "stderr",
     "output_type": "stream",
     "text": [
      "YOLOv5  2022-4-25 torch 1.11.0+cpu CPU\n",
      "\n",
      "Fusing layers... \n",
      "Model summary: 213 layers, 7018216 parameters, 0 gradients, 15.8 GFLOPs\n",
      "Adding AutoShape... \n"
     ]
    }
   ],
   "source": [
    "path = 'data\\conveyorImages'\n",
    "imgs = [os.path.join(path, f) for f in os.listdir(path) if f.endswith('.png')]\n",
    "\n",
    "pred = Predictor(imgs=imgs)"
   ]
  },
  {
   "cell_type": "code",
   "execution_count": 48,
   "metadata": {},
   "outputs": [
    {
     "data": {
      "text/plain": [
       "[[[862.3251342773438,\n",
       "   306.85455322265625,\n",
       "   992.7933959960938,\n",
       "   424.99810791015625,\n",
       "   0.8889967799186707,\n",
       "   2,\n",
       "   'box',\n",
       "   array([584, 708])]],\n",
       " [[729.0773315429688,\n",
       "   337.5199890136719,\n",
       "   893.0615844726562,\n",
       "   475.6775207519531,\n",
       "   0.8982843160629272,\n",
       "   2,\n",
       "   'box',\n",
       "   array([533, 684])]],\n",
       " [[627.5916748046875,\n",
       "   353.595703125,\n",
       "   794.3533935546875,\n",
       "   515.156005859375,\n",
       "   0.9190041422843933,\n",
       "   2,\n",
       "   'box',\n",
       "   array([490, 654])]],\n",
       " [[574.2073974609375,\n",
       "   362.5861511230469,\n",
       "   740.1697998046875,\n",
       "   533.08935546875,\n",
       "   0.9150750041007996,\n",
       "   2,\n",
       "   'box',\n",
       "   array([468, 636])]]]"
      ]
     },
     "execution_count": 48,
     "metadata": {},
     "output_type": "execute_result"
    }
   ],
   "source": [
    "pred.results"
   ]
  },
  {
   "cell_type": "code",
   "execution_count": null,
   "metadata": {},
   "outputs": [],
   "source": []
  }
 ],
 "metadata": {
  "interpreter": {
   "hash": "13599d27ea91ac1cb7023a4a51c973d8f08b09d3ced2b44d4ff6115410ac0f58"
  },
  "kernelspec": {
   "display_name": "Python 3.6.13 ('yolov5')",
   "language": "python",
   "name": "python3"
  },
  "language_info": {
   "codemirror_mode": {
    "name": "ipython",
    "version": 3
   },
   "file_extension": ".py",
   "mimetype": "text/x-python",
   "name": "python",
   "nbconvert_exporter": "python",
   "pygments_lexer": "ipython3",
   "version": "3.8.12"
  },
  "orig_nbformat": 4
 },
 "nbformat": 4,
 "nbformat_minor": 2
}
