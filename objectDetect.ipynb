{
 "cells": [
  {
   "cell_type": "code",
   "execution_count": 49,
   "metadata": {},
   "outputs": [],
   "source": [
    "import torch\n",
    "import numpy as np\n",
    "import os\n",
    "\n",
    "class Predictor:\n",
    "    def __init__(self, imgs, modelPath='data/yoloModels/best.pt'):\n",
    "        self.imgs = imgs\n",
    "        self.model = torch.hub.load('ultralytics/yolov5','custom', path=modelPath, verbose=False)\n",
    "        # self.centers = []\n",
    "        self.results = []\n",
    "        self.getPredictions()\n",
    "\n",
    "\n",
    "    def __str__(self):\n",
    "        return f'{len(self.imgs)} images, {self.name}'\n",
    "\n",
    "    def getPredictions(self):\n",
    "        for img in self.imgs:\n",
    "            self.results.append(self.model(img).pandas().xyxy[0].to_numpy())\n",
    "            \n",
    "            xmin = self.results[-1][0][0]\n",
    "            ymin = self.results[-1][0][1]\n",
    "            xmax = self.results[-1][0][2]\n",
    "            ymax = self.results[-1][0][3]\n",
    "            center = self.getCenter(xmin, xmax, ymin, ymax)\n",
    "            self.results[-1][0] = self.results[-1][0].tolist()\n",
    "            self.results[-1][0].append(self.getCenter(xmin, xmax, ymin, ymax))\n",
    "            # self.centers.append(center)\n",
    "\n",
    "    def getCenter(self, xmin, xmax, ymin, ymax):\n",
    "        return np.array([(xmin + xmax)/2, (ymin + ymax)/2]).astype(int)\n"
   ]
  },
  {
   "cell_type": "code",
   "execution_count": 50,
   "metadata": {},
   "outputs": [
    {
     "name": "stderr",
     "output_type": "stream",
     "text": [
      "YOLOv5  2022-4-27 torch 1.11.0+cpu CPU\n",
      "\n",
      "Fusing layers... \n",
      "Model summary: 213 layers, 7012822 parameters, 0 gradients\n",
      "Adding AutoShape... \n"
     ]
    },
    {
     "ename": "AttributeError",
     "evalue": "'numpy.ndarray' object has no attribute 'append'",
     "output_type": "error",
     "traceback": [
      "\u001b[1;31m---------------------------------------------------------------------------\u001b[0m",
      "\u001b[1;31mAttributeError\u001b[0m                            Traceback (most recent call last)",
      "\u001b[1;32mc:\\Users\\Bendik\\Documents\\Git\\Final_Project_31392_Group_2\\objectDetect.ipynb Cell 2'\u001b[0m in \u001b[0;36m<module>\u001b[1;34m\u001b[0m\n\u001b[0;32m      <a href='vscode-notebook-cell:/c%3A/Users/Bendik/Documents/Git/Final_Project_31392_Group_2/objectDetect.ipynb#ch0000001?line=1'>2</a>\u001b[0m imgs \u001b[39m=\u001b[39m [os\u001b[39m.\u001b[39mpath\u001b[39m.\u001b[39mjoin(path, f) \u001b[39mfor\u001b[39;00m f \u001b[39min\u001b[39;00m os\u001b[39m.\u001b[39mlistdir(path) \u001b[39mif\u001b[39;00m f\u001b[39m.\u001b[39mendswith(\u001b[39m'\u001b[39m\u001b[39m.png\u001b[39m\u001b[39m'\u001b[39m)]\n\u001b[0;32m      <a href='vscode-notebook-cell:/c%3A/Users/Bendik/Documents/Git/Final_Project_31392_Group_2/objectDetect.ipynb#ch0000001?line=3'>4</a>\u001b[0m \u001b[39m# centers = []\u001b[39;00m\n\u001b[0;32m      <a href='vscode-notebook-cell:/c%3A/Users/Bendik/Documents/Git/Final_Project_31392_Group_2/objectDetect.ipynb#ch0000001?line=4'>5</a>\u001b[0m \u001b[39m# for img in imgs:\u001b[39;00m\n\u001b[0;32m      <a href='vscode-notebook-cell:/c%3A/Users/Bendik/Documents/Git/Final_Project_31392_Group_2/objectDetect.ipynb#ch0000001?line=5'>6</a>\u001b[0m \u001b[39m#     obj = Object(img)\u001b[39;00m\n\u001b[0;32m      <a href='vscode-notebook-cell:/c%3A/Users/Bendik/Documents/Git/Final_Project_31392_Group_2/objectDetect.ipynb#ch0000001?line=6'>7</a>\u001b[0m \u001b[39m#     centers.append(obj.center)\u001b[39;00m\n\u001b[1;32m----> <a href='vscode-notebook-cell:/c%3A/Users/Bendik/Documents/Git/Final_Project_31392_Group_2/objectDetect.ipynb#ch0000001?line=8'>9</a>\u001b[0m pred \u001b[39m=\u001b[39m Predictor(imgs\u001b[39m=\u001b[39;49mimgs)\n",
      "\u001b[1;32mc:\\Users\\Bendik\\Documents\\Git\\Final_Project_31392_Group_2\\objectDetect.ipynb Cell 1'\u001b[0m in \u001b[0;36mPredictor.__init__\u001b[1;34m(self, imgs, modelPath)\u001b[0m\n\u001b[0;32m      <a href='vscode-notebook-cell:/c%3A/Users/Bendik/Documents/Git/Final_Project_31392_Group_2/objectDetect.ipynb#ch0000000?line=8'>9</a>\u001b[0m \u001b[39m# self.centers = []\u001b[39;00m\n\u001b[0;32m     <a href='vscode-notebook-cell:/c%3A/Users/Bendik/Documents/Git/Final_Project_31392_Group_2/objectDetect.ipynb#ch0000000?line=9'>10</a>\u001b[0m \u001b[39mself\u001b[39m\u001b[39m.\u001b[39mresults \u001b[39m=\u001b[39m []\n\u001b[1;32m---> <a href='vscode-notebook-cell:/c%3A/Users/Bendik/Documents/Git/Final_Project_31392_Group_2/objectDetect.ipynb#ch0000000?line=10'>11</a>\u001b[0m \u001b[39mself\u001b[39;49m\u001b[39m.\u001b[39;49mgetPredictions()\n",
      "\u001b[1;32mc:\\Users\\Bendik\\Documents\\Git\\Final_Project_31392_Group_2\\objectDetect.ipynb Cell 1'\u001b[0m in \u001b[0;36mPredictor.getPredictions\u001b[1;34m(self)\u001b[0m\n\u001b[0;32m     <a href='vscode-notebook-cell:/c%3A/Users/Bendik/Documents/Git/Final_Project_31392_Group_2/objectDetect.ipynb#ch0000000?line=24'>25</a>\u001b[0m center \u001b[39m=\u001b[39m \u001b[39mself\u001b[39m\u001b[39m.\u001b[39mgetCenter(xmin, xmax, ymin, ymax)\n\u001b[0;32m     <a href='vscode-notebook-cell:/c%3A/Users/Bendik/Documents/Git/Final_Project_31392_Group_2/objectDetect.ipynb#ch0000000?line=25'>26</a>\u001b[0m \u001b[39mself\u001b[39m\u001b[39m.\u001b[39mresults[\u001b[39m-\u001b[39m\u001b[39m1\u001b[39m][\u001b[39m0\u001b[39m] \u001b[39m=\u001b[39m \u001b[39mself\u001b[39m\u001b[39m.\u001b[39mresults[\u001b[39m-\u001b[39m\u001b[39m1\u001b[39m][\u001b[39m0\u001b[39m]\u001b[39m.\u001b[39mtolist()\n\u001b[1;32m---> <a href='vscode-notebook-cell:/c%3A/Users/Bendik/Documents/Git/Final_Project_31392_Group_2/objectDetect.ipynb#ch0000000?line=26'>27</a>\u001b[0m \u001b[39mself\u001b[39;49m\u001b[39m.\u001b[39;49mresults[\u001b[39m-\u001b[39;49m\u001b[39m1\u001b[39;49m][\u001b[39m0\u001b[39;49m]\u001b[39m.\u001b[39;49mappend(\u001b[39mself\u001b[39m\u001b[39m.\u001b[39mgetCenter(xmin, xmax, ymin, ymax))\n",
      "\u001b[1;31mAttributeError\u001b[0m: 'numpy.ndarray' object has no attribute 'append'"
     ]
    }
   ],
   "source": [
    "path = 'data\\conveyorImages'\n",
    "imgs = [os.path.join(path, f) for f in os.listdir(path) if f.endswith('.png')]\n",
    "\n",
    "# centers = []\n",
    "# for img in imgs:\n",
    "#     obj = Object(img)\n",
    "#     centers.append(obj.center)\n",
    "\n",
    "pred = Predictor(imgs=imgs)\n"
   ]
  },
  {
   "cell_type": "code",
   "execution_count": null,
   "metadata": {},
   "outputs": [
    {
     "data": {
      "text/plain": [
       "[array([[856.2462158203125, 310.13323974609375, 998.8065185546875, 426.71905517578125, 0.9314594268798828, 0, 'box']], dtype=object),\n",
       " array([[732.5384521484375, 334.01318359375, 891.630859375, 474.98284912109375, 0.9456979632377625, 0, 'box']], dtype=object),\n",
       " array([[628.7694091796875, 357.84063720703125, 793.7801513671875, 512.0861206054688, 0.9429858922958374, 0, 'box']], dtype=object),\n",
       " array([[575.2089233398438, 368.7104187011719, 741.6259155273438, 529.5492553710938, 0.9529181122779846, 0, 'box']], dtype=object)]"
      ]
     },
     "execution_count": 46,
     "metadata": {},
     "output_type": "execute_result"
    }
   ],
   "source": [
    "pred.results"
   ]
  }
 ],
 "metadata": {
  "interpreter": {
   "hash": "13599d27ea91ac1cb7023a4a51c973d8f08b09d3ced2b44d4ff6115410ac0f58"
  },
  "kernelspec": {
   "display_name": "Python 3.6.13 ('yolov5')",
   "language": "python",
   "name": "python3"
  },
  "language_info": {
   "codemirror_mode": {
    "name": "ipython",
    "version": 3
   },
   "file_extension": ".py",
   "mimetype": "text/x-python",
   "name": "python",
   "nbconvert_exporter": "python",
   "pygments_lexer": "ipython3",
   "version": "3.8.12"
  },
  "orig_nbformat": 4
 },
 "nbformat": 4,
 "nbformat_minor": 2
}
