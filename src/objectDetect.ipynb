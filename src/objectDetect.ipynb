{
 "cells": [
  {
   "cell_type": "code",
   "execution_count": 32,
   "metadata": {},
   "outputs": [],
   "source": [
    "import torch\n",
    "import numpy as np\n",
    "import os\n",
    "import cv2\n",
    "from tqdm import tqdm\n",
    "import glob\n",
    "\n",
    "class Predictor:\n",
    "    def __init__(self, imgs, modelName='bestest.pt', modelPath='../data/yoloModels/', outputPath='../data/yoloPredictions/'):\n",
    "        self.imgs = imgs\n",
    "        self.outputPath = outputPath\n",
    "        self.modelName = modelName\n",
    "        self.model = torch.hub.load('yolov5','custom', path=modelPath+modelName, source='local', _verbose=False)\n",
    "        self.results = [] # [[[xmin, xmax, ymin, ymax, certainty, classID, className, [centerX, centerY]], ...], ...]\n",
    "        self.getPredictions()\n",
    "\n",
    "\n",
    "    def __str__(self):\n",
    "        return f'{len(self.imgs)} images, {self.name}'\n",
    "\n",
    "    def getPredictions(self):\n",
    "        for i, img in enumerate(self.imgs):\n",
    "            currResult = self.model(img).pandas().xyxy[0].to_numpy()\n",
    "            self.model(img).save(labels=True, save_dir=f'{os.getcwd()}/{self.outputPath}/{self.modelName[0:-3]}')\n",
    "\n",
    "            self.results.append([])\n",
    "            for j, res in enumerate(currResult):\n",
    "                self.results[-1].append([])\n",
    "                for k, val in enumerate(res):\n",
    "                    self.results[-1][-1].append(val)\n",
    "                \n",
    "                # self.results[-1][-1].append(i)\n",
    "                center = self.getCenter(*self.results[-1][-1][:4])\n",
    "                self.results[-1][-1].append(center)\n",
    "\n",
    "\n",
    "    def getCenter(self, xmin, xmax, ymin, ymax):\n",
    "        return np.array([(xmin + xmax)/2, (ymin + ymax)/2]).astype(int)\n"
   ]
  },
  {
   "cell_type": "code",
   "execution_count": 33,
   "metadata": {},
   "outputs": [],
   "source": [
    "path = 'data/conveyorImages'\n",
    "imgs = [os.path.join(path, f) for f in os.listdir(path) if f.endswith('.png')]\n",
    "pred = Predictor(imgs=imgs)"
   ]
  },
  {
   "cell_type": "code",
   "execution_count": 14,
   "metadata": {},
   "outputs": [
    {
     "data": {
      "text/plain": [
       "[[[632.6787719726562,\n",
       "   352.8246765136719,\n",
       "   797.4872436523438,\n",
       "   510.2147216796875,\n",
       "   0.9062528610229492,\n",
       "   2,\n",
       "   'box',\n",
       "   1,\n",
       "   array([492, 653])]]]"
      ]
     },
     "execution_count": 14,
     "metadata": {},
     "output_type": "execute_result"
    }
   ],
   "source": [
    "res = [x for x in pred.results if len(x) > 0]\n",
    "res"
   ]
  },
  {
   "cell_type": "code",
   "execution_count": null,
   "metadata": {},
   "outputs": [],
   "source": [
    "image_folder = 'data/yoloPredictions/right/*'\n",
    "video_name = 'right_cam_predicted.avi'#save as .avi\n",
    "#is changeable but maintain same h&w over all  frames\n",
    "width=1280\n",
    "height=720 \n",
    "#this fourcc best compatible for avi\n",
    "fourcc = cv2.VideoWriter_fourcc('M','J','P','G')\n",
    "video=cv2.VideoWriter(video_name,fourcc, 60, (width,height))\n",
    "\n",
    "for i in tqdm((sorted(glob.glob(image_folder)))):\n",
    "     x=cv2.imread(i)\n",
    "     video.write(x)\n",
    "\n",
    "cv2.destroyAllWindows()\n",
    "video.release()"
   ]
  },
  {
   "cell_type": "code",
   "execution_count": null,
   "metadata": {},
   "outputs": [],
   "source": []
  }
 ],
 "metadata": {
  "interpreter": {
   "hash": "13599d27ea91ac1cb7023a4a51c973d8f08b09d3ced2b44d4ff6115410ac0f58"
  },
  "kernelspec": {
   "display_name": "Python 3.6.13 ('yolov5')",
   "language": "python",
   "name": "python3"
  },
  "language_info": {
   "codemirror_mode": {
    "name": "ipython",
    "version": 3
   },
   "file_extension": ".py",
   "mimetype": "text/x-python",
   "name": "python",
   "nbconvert_exporter": "python",
   "pygments_lexer": "ipython3",
   "version": "3.8.12"
  },
  "orig_nbformat": 4
 },
 "nbformat": 4,
 "nbformat_minor": 2
}
