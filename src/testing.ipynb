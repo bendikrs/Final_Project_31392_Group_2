{
 "cells": [
  {
   "cell_type": "code",
   "execution_count": null,
   "metadata": {},
   "outputs": [],
   "source": [
    "import numpy as np\n",
    "\n",
    "path = 'data/results/Stereo_conveyor_with_occlusions/left/1585434750_371934652_Left.jpg'\n",
    "\n"
   ]
  }
 ],
 "metadata": {
  "interpreter": {
   "hash": "fd63771e9f8bfc6b11ae7e872054b6fc5d3f9686103bde3487fad9ddbe0d7624"
  },
  "kernelspec": {
   "display_name": "Python 3.8.12 ('percep')",
   "language": "python",
   "name": "python3"
  },
  "language_info": {
   "name": "python",
   "version": "3.8.12"
  },
  "orig_nbformat": 4
 },
 "nbformat": 4,
 "nbformat_minor": 2
}
