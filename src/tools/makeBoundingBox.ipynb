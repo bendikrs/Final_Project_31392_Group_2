{
 "cells": [
  {
   "cell_type": "code",
   "execution_count": 3,
   "metadata": {},
   "outputs": [],
   "source": [
    "import os\n",
    "files = os.listdir('.') \n",
    "\n",
    "def make_anotation(filename):\n",
    "    txt_file = filename.split('.')[0] + '.txt'\n",
    "    with open(txt_file, 'w') as file:\n",
    "        text = f\"0 0.5 0.5 1 1\"\n",
    "        file.write(text)\n",
    "\n",
    "for filename in files:\n",
    "    make_anotation(filename)\n",
    "\n"
   ]
  }
 ],
 "metadata": {
  "interpreter": {
   "hash": "fd63771e9f8bfc6b11ae7e872054b6fc5d3f9686103bde3487fad9ddbe0d7624"
  },
  "kernelspec": {
   "display_name": "Python 3.8.12 ('percep')",
   "language": "python",
   "name": "python3"
  },
  "language_info": {
   "codemirror_mode": {
    "name": "ipython",
    "version": 3
   },
   "file_extension": ".py",
   "mimetype": "text/x-python",
   "name": "python",
   "nbconvert_exporter": "python",
   "pygments_lexer": "ipython3",
   "version": "3.8.12"
  },
  "orig_nbformat": 4
 },
 "nbformat": 4,
 "nbformat_minor": 2
}
